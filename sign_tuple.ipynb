{
 "cells": [
  {
   "cell_type": "markdown",
   "metadata": {},
   "source": [
    "## Given an array, print the Next Greater Element (NGE) for every element. The Next Greater Element for an element x is the first greater element on the right side of x in array. Elements for which no greater element exist, consider next greater element as -1."
   ]
  },
  {
   "cell_type": "code",
   "execution_count": 2,
   "metadata": {},
   "outputs": [
    {
     "name": "stdout",
     "output_type": "stream",
     "text": [
      "Enter number of elements : 4\n",
      "04\n",
      "15\n",
      "22\n",
      "325\n",
      "Your Input list is : [4, 5, 2, 25]\n",
      "Your Input List is : [4, 5, 2, 25]\n",
      "Your Next Greator Element is : [5, 25, 25, -1]\n"
     ]
    }
   ],
   "source": [
    "input_list = []  \n",
    "n = int(input(\"Enter number of elements : \")) \n",
    "for i in range(0, n): \n",
    "    ele = int(input(i)) \n",
    "    input_list.append(ele) \n",
    "print('Your Input list is :',input_list) \n",
    "output = []\n",
    "\n",
    "for i in range(0,len(input_list)):\n",
    "    for j in range(i,len(input_list)):\n",
    "        if input_list[i]<input_list[j]:\n",
    "            output.append(input_list[j])\n",
    "            break\n",
    "        if input_list[i] == max(input_list):\n",
    "            output.append(-1)            \n",
    "            \n",
    "        #if input_list[i]==input_list[-1]:\n",
    "            \n",
    "            #temp.append(-1)\n",
    "            #break\n",
    "print('Your Input List is :',input_list)\n",
    "print('Your Next Greator Element is :',output)\n"
   ]
  },
  {
   "cell_type": "markdown",
   "metadata": {},
   "source": [
    "## You have an array of N numbers consisting of positive & negative numbers. Given an input of K, find K such numbers in the array whose product is maximum"
   ]
  },
  {
   "cell_type": "code",
   "execution_count": 5,
   "metadata": {},
   "outputs": [
    {
     "name": "stdout",
     "output_type": "stream",
     "text": [
      "Enter number of elements : 5\n",
      "0-12\n",
      "143\n",
      "254\n",
      "321\n",
      "478\n",
      "Your Input list is : [-12, 43, 54, 21, 78]\n",
      "Choose your K value :3\n",
      "Selected Values are : [78, 54, 43]\n",
      "Maximun product is : 181116\n"
     ]
    }
   ],
   "source": [
    "import math\n",
    "\n",
    "input_list = []  \n",
    "n = int(input(\"Enter number of elements : \")) \n",
    "for i in range(0, n): \n",
    "    ele = int(input(i  )) \n",
    "    input_list.append(ele) \n",
    "print('Your Input list is :',input_list) \n",
    "\n",
    "k = int(input('Choose your K value :'))\n",
    "so = sorted(input_list)\n",
    "\n",
    "div1 = math.floor(k/2)\n",
    "div2 = math.ceil(k/2)\n",
    "\n",
    "so1 = so[:k]\n",
    "def first():\n",
    "    first_set = 1\n",
    "    for i in so1:\n",
    "        first_set = first_set*i    \n",
    "    return first_set\n",
    "\n",
    "so2 = so[-1:-k-1:-1]\n",
    "def second():\n",
    "    second_set = 1\n",
    "    for i in so2:\n",
    "        second_set = second_set*i \n",
    "    return second_set\n",
    "\n",
    "so3 = so[0:div1],so[-1:-div2-1:-1]\n",
    "def third():\n",
    "    third_set = 1\n",
    "    for i in so3:\n",
    "        for j in i:\n",
    "            third_set = third_set*j        \n",
    "    return third_set\n",
    "\n",
    "so4 = so[0:div2],so[-1:-div1-1:-1]\n",
    "def fourth():\n",
    "    fourth_set = 1\n",
    "    for i in so4:\n",
    "        for j in i:\n",
    "            fourth_set = fourth_set*j\n",
    "    return fourth_set\n",
    "\n",
    "obj1 = first()\n",
    "obj2 = second()\n",
    "obj3 = third()\n",
    "obj4 = fourth()\n",
    "\n",
    "if (obj1>obj2 and obj1>obj3 and obj1>obj4):\n",
    "    print('Selected Values are :',so1)\n",
    "    print('Maximun product is :',obj1)\n",
    "elif (obj2>obj1 and obj2 > obj3 and obj2>obj4):\n",
    "    print('Selected Values are :',so2)\n",
    "    print('Maximun product is :',obj2)\n",
    "elif (obj3>obj1 and obj3>obj2 and obj3>obj4):\n",
    "    print('Selected Values are :',so3)\n",
    "    print('Maximun product is :',obj3)\n",
    "else:\n",
    "    print('Selected Values are :',so4)\n",
    "    print('Maximun product is :',obj4)\n"
   ]
  },
  {
   "cell_type": "code",
   "execution_count": null,
   "metadata": {},
   "outputs": [],
   "source": []
  }
 ],
 "metadata": {
  "kernelspec": {
   "display_name": "Python 3",
   "language": "python",
   "name": "python3"
  },
  "language_info": {
   "codemirror_mode": {
    "name": "ipython",
    "version": 3
   },
   "file_extension": ".py",
   "mimetype": "text/x-python",
   "name": "python",
   "nbconvert_exporter": "python",
   "pygments_lexer": "ipython3",
   "version": "3.8.5"
  }
 },
 "nbformat": 4,
 "nbformat_minor": 4
}
